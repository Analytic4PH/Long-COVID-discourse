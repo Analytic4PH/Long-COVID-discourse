{
 "cells": [
  {
   "cell_type": "code",
   "execution_count": null,
   "id": "c11d340c",
   "metadata": {},
   "outputs": [],
   "source": [
    "import pandas as pd\n",
    "import plotly.express as px"
   ]
  },
  {
   "cell_type": "code",
   "execution_count": null,
   "id": "4de1bef8",
   "metadata": {},
   "outputs": [],
   "source": [
    "canada_dataframe = pd.read_csv('D:/Research/UBC/covid19/topic_modeling/time_canada_canada_us_CTM.csv', names=['Week', 'Topic1', 'Topic2', 'Topic3', 'Topic4', 'Topic5'])\n",
    "us_dataframe = pd.read_csv('D:/Research/UBC/covid19/topic_modeling/time_us_canada_us_CTM.csv', names=['Week', 'Topic1', 'Topic2', 'Topic3', 'Topic4', 'Topic5'])\n",
    "eu_uk_dataframe = pd.read_csv('D:/Research/UBC/covid19/topic_modeling/time_EU_UK_canada_us_CTM.csv', names=['Week', 'Topic1', 'Topic2', 'Topic3', 'Topic4', 'Topic5'])"
   ]
  },
  {
   "cell_type": "code",
   "execution_count": null,
   "id": "b7903451",
   "metadata": {},
   "outputs": [],
   "source": [
    "canada_dataframe.head()"
   ]
  },
  {
   "cell_type": "code",
   "execution_count": null,
   "id": "9533598e",
   "metadata": {},
   "outputs": [],
   "source": [
    "us_dataframe.head()"
   ]
  },
  {
   "cell_type": "code",
   "execution_count": null,
   "id": "78b2bc51",
   "metadata": {},
   "outputs": [],
   "source": [
    "eu_uk_dataframe.head()"
   ]
  },
  {
   "cell_type": "code",
   "execution_count": null,
   "id": "7e91d4e2",
   "metadata": {},
   "outputs": [],
   "source": [
    "import plotly.express as px\n",
    "fig = px.bar(canada_dataframe, x=\"Week\", y=[\"Topic1\", \"Topic2\", \"Topic3\", \"Topic4\", \"Topic5\"], title=\"Canada Region\")\n",
    "fig.show()"
   ]
  },
  {
   "cell_type": "code",
   "execution_count": null,
   "id": "37cb3dff",
   "metadata": {},
   "outputs": [],
   "source": [
    "import plotly.express as px\n",
    "fig = px.bar(us_dataframe, x=\"Week\", y=[\"Topic1\", \"Topic2\", \"Topic3\", \"Topic4\", \"Topic5\"], title=\"USA Region\")\n",
    "fig.show()"
   ]
  },
  {
   "cell_type": "code",
   "execution_count": null,
   "id": "eb8e16fd",
   "metadata": {},
   "outputs": [],
   "source": [
    "import plotly.express as px\n",
    "fig = px.bar(eu_uk_dataframe, x=\"Week\", y=[\"Topic1\", \"Topic2\", \"Topic3\", \"Topic4\", \"Topic5\"], title=\"EU+UK Region\")\n",
    "fig.show()"
   ]
  },
  {
   "cell_type": "code",
   "execution_count": null,
   "id": "3c1e4b0a",
   "metadata": {},
   "outputs": [],
   "source": [
    "import plotly.express as px\n",
    "fig = px.line(canada_dataframe, x=\"Week\", y=[\"Topic1\", \"Topic2\", \"Topic3\", \"Topic4\", \"Topic5\"], title=\"Canada Region\")\n",
    "fig.show()"
   ]
  },
  {
   "cell_type": "code",
   "execution_count": null,
   "id": "2ec3e477",
   "metadata": {},
   "outputs": [],
   "source": [
    "import plotly.express as px\n",
    "fig = px.line(us_dataframe, x=\"Week\", y=[\"Topic1\", \"Topic2\", \"Topic3\", \"Topic4\", \"Topic5\"], title=\"USA Region\")\n",
    "fig.show()"
   ]
  },
  {
   "cell_type": "code",
   "execution_count": null,
   "id": "866a5f75",
   "metadata": {},
   "outputs": [],
   "source": [
    "import plotly.express as px\n",
    "fig = px.line(eu_uk_dataframe, x=\"Week\", y=[\"Topic1\", \"Topic2\", \"Topic3\", \"Topic4\", \"Topic5\"], title=\"EU+UK Region\")\n",
    "fig.show()"
   ]
  },
  {
   "cell_type": "code",
   "execution_count": null,
   "id": "4f83fb15",
   "metadata": {},
   "outputs": [],
   "source": []
  }
 ],
 "metadata": {
  "kernelspec": {
   "display_name": "Python 3 (ipykernel)",
   "language": "python",
   "name": "python3"
  },
  "language_info": {
   "codemirror_mode": {
    "name": "ipython",
    "version": 3
   },
   "file_extension": ".py",
   "mimetype": "text/x-python",
   "name": "python",
   "nbconvert_exporter": "python",
   "pygments_lexer": "ipython3",
   "version": "3.9.16"
  }
 },
 "nbformat": 4,
 "nbformat_minor": 5
}
